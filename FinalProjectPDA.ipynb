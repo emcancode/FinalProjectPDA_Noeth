{
  "nbformat": 4,
  "nbformat_minor": 0,
  "metadata": {
    "colab": {
      "name": "FinalProjectPDA.ipynb",
      "provenance": [],
      "toc_visible": true,
      "authorship_tag": "ABX9TyOetFX9FUnd1lqVa1YtGlks",
      "include_colab_link": true
    },
    "kernelspec": {
      "name": "python3",
      "display_name": "Python 3"
    },
    "language_info": {
      "name": "python"
    }
  },
  "cells": [
    {
      "cell_type": "markdown",
      "metadata": {
        "id": "view-in-github",
        "colab_type": "text"
      },
      "source": [
        "<a href=\"https://colab.research.google.com/github/emcancode/FinalProjectPDA_Noeth/blob/main/FinalProjectPDA.ipynb\" target=\"_parent\"><img src=\"https://colab.research.google.com/assets/colab-badge.svg\" alt=\"Open In Colab\"/></a>"
      ]
    },
    {
      "cell_type": "code",
      "execution_count": null,
      "metadata": {
        "colab": {
          "base_uri": "https://localhost:8080/"
        },
        "id": "Wou4AvsTKu7l",
        "outputId": "df9c7579-4cc9-47d6-e30c-a0c52039fa09"
      },
      "outputs": [
        {
          "output_type": "stream",
          "name": "stdout",
          "text": [
            "Index(['OBJECTID', 'HUC12_Name', 'HUC12_Num', 'Species_Count', 'Shape__Area',\n",
            "       'Shape__Length'],\n",
            "      dtype='object')\n",
            "<class 'pandas.core.frame.DataFrame'>\n",
            "RangeIndex: 3097 entries, 0 to 3096\n",
            "Data columns (total 6 columns):\n",
            " #   Column         Non-Null Count  Dtype  \n",
            "---  ------         --------------  -----  \n",
            " 0   OBJECTID       3097 non-null   int64  \n",
            " 1   HUC12_Name     3097 non-null   object \n",
            " 2   HUC12_Num      3097 non-null   int64  \n",
            " 3   Species_Count  3097 non-null   int64  \n",
            " 4   Shape__Area    3097 non-null   float64\n",
            " 5   Shape__Length  3097 non-null   float64\n",
            "dtypes: float64(2), int64(3), object(1)\n",
            "memory usage: 145.3+ KB\n",
            "None\n"
          ]
        }
      ],
      "source": [
        "import pandas as pd\n",
        "\n",
        "df = pd.read_csv('https://raw.githubusercontent.com/emcancode/FinalProjectPDA_Noeth/main/California_Native_Fish_Species_by_Watershed_%5Bds1353%5D.csv')\n",
        "\n",
        "print(df.columns)\n",
        "print(df.info())"
      ]
    },
    {
      "cell_type": "code",
      "source": [
        "from matplotlib import pyplot as plt\n",
        "\n",
        "plt.scatter(df['Species_Count'], df['OBJECTID'])\n",
        "\n",
        "plt.show()"
      ],
      "metadata": {
        "colab": {
          "base_uri": "https://localhost:8080/",
          "height": 265
        },
        "id": "9OKJY-4Kb5OB",
        "outputId": "0fa5b39f-fc31-4c03-b50b-a2a1930ca4af"
      },
      "execution_count": 12,
      "outputs": [
        {
          "output_type": "display_data",
          "data": {
            "text/plain": [
              "<Figure size 432x288 with 1 Axes>"
            ],
            "image/png": "[encoded data removed]"
          },
          "metadata": {
            "needs_background": "light"
          }
        }
      ]
    },
    {
      "cell_type": "code",
      "source": [
        "import pandas as pd\n",
        "\n",
        "df = pd.read_csv('https://raw.githubusercontent.com/emcancode/FinalProjectPDA_Noeth/main/Average_Date_When_Lilacs_Bloom_in_Idaho.csv')\n",
        "\n",
        "print(df.columns)\n",
        "print(df.info())"
      ],
      "metadata": {
        "colab": {
          "base_uri": "https://localhost:8080/"
        },
        "id": "tiy9CAHRdd1n",
        "outputId": "ea28efc5-9cc1-41dd-8be1-c64db5255b1f"
      },
      "execution_count": 13,
      "outputs": [
        {
          "output_type": "stream",
          "name": "stdout",
          "text": [
            "Index(['OBJECTID', 'DATE', 'SHAPE_Length', 'SHAPE_Area'], dtype='object')\n",
            "<class 'pandas.core.frame.DataFrame'>\n",
            "RangeIndex: 60 entries, 0 to 59\n",
            "Data columns (total 4 columns):\n",
            " #   Column        Non-Null Count  Dtype  \n",
            "---  ------        --------------  -----  \n",
            " 0   OBJECTID      60 non-null     int64  \n",
            " 1   DATE          60 non-null     object \n",
            " 2   SHAPE_Length  60 non-null     float64\n",
            " 3   SHAPE_Area    60 non-null     float64\n",
            "dtypes: float64(2), int64(1), object(1)\n",
            "memory usage: 2.0+ KB\n",
            "None\n"
          ]
        }
      ]
    },
    {
      "cell_type": "code",
      "source": [
        "from matplotlib import pyplot as plt\n",
        "\n",
        "plt.scatter(df['OBJECTID'], df['DATE'])\n",
        "\n",
        "plt.show()"
      ],
      "metadata": {
        "colab": {
          "base_uri": "https://localhost:8080/",
          "height": 265
        },
        "id": "sVsA77-adnzo",
        "outputId": "df6afb4e-29e6-47b0-aa74-c019ed4660a2"
      },
      "execution_count": 15,
      "outputs": [
        {
          "output_type": "display_data",
          "data": {
            "text/plain": [
              "<Figure size 432x288 with 1 Axes>"
            ],
            "image/png": "[encoded data removed]"
          },
          "metadata": {
            "needs_background": "light"
          }
        }
      ]
    }
  ]
}