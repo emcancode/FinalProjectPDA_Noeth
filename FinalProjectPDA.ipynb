{
  "nbformat": 4,
  "nbformat_minor": 0,
  "metadata": {
    "colab": {
      "name": "FinalProjectPDA.ipynb",
      "provenance": [],
      "toc_visible": true,
      "authorship_tag": "ABX9TyMr85p/0JryTXt1+vPOVIrW",
      "include_colab_link": true
    },
    "kernelspec": {
      "name": "python3",
      "display_name": "Python 3"
    },
    "language_info": {
      "name": "python"
    }
  },
  "cells": [
    {
      "cell_type": "markdown",
      "metadata": {
        "id": "view-in-github",
        "colab_type": "text"
      },
      "source": [
        "<a href=\"https://colab.research.google.com/github/emcancode/FinalProjectPDA_Noeth/blob/main/FinalProjectPDA.ipynb\" target=\"_parent\"><img src=\"https://colab.research.google.com/assets/colab-badge.svg\" alt=\"Open In Colab\"/></a>"
      ]
    },
    {
      "cell_type": "code",
      "execution_count": 10,
      "metadata": {
        "colab": {
          "base_uri": "https://localhost:8080/"
        },
        "id": "Wou4AvsTKu7l",
        "outputId": "73b1b5a4-f8ad-42d4-a0de-029d69d48ff3"
      },
      "outputs": [
        {
          "output_type": "stream",
          "name": "stdout",
          "text": [
            "04/25/2022    1\n",
            "07/23/2012    1\n",
            "09/24/2012    1\n",
            "09/17/2012    1\n",
            "09/10/2012    1\n",
            "             ..\n",
            "06/12/2017    1\n",
            "06/05/2017    1\n",
            "05/29/2017    1\n",
            "05/22/2017    1\n",
            "10/29/2007    1\n",
            "Name: Date, Length: 757, dtype: int64\n",
            "2.69    12\n",
            "2.88    12\n",
            "3.73    10\n",
            "2.70     9\n",
            "2.85     9\n",
            "        ..\n",
            "4.15     1\n",
            "4.04     1\n",
            "4.16     1\n",
            "4.17     1\n",
            "4.22     1\n",
            "Name: New York State Average ($/gal), Length: 223, dtype: int64\n",
            "2.31    13\n",
            "3.75    10\n",
            "3.80    10\n",
            "2.74    10\n",
            "2.87     9\n",
            "        ..\n",
            "3.99     1\n",
            "3.44     1\n",
            "3.49     1\n",
            "3.85     1\n",
            "2.37     1\n",
            "Name: Albany Average ($/gal), Length: 218, dtype: int64\n",
            "2.84    12\n",
            "2.66     9\n",
            "2.97     8\n",
            "2.43     8\n",
            "2.22     8\n",
            "        ..\n",
            "2.27     1\n",
            "4.24     1\n",
            "2.26     1\n",
            "2.30     1\n",
            "2.44     1\n",
            "Name: Batavia Average ($/gal), Length: 102, dtype: int64\n",
            "2.79    12\n",
            "2.62    10\n",
            "3.66    10\n",
            "2.84     9\n",
            "3.76     9\n",
            "        ..\n",
            "3.92     1\n",
            "4.02     1\n",
            "4.07     1\n",
            "3.46     1\n",
            "3.08     1\n",
            "Name: Binghamton Average ($/gal), Length: 221, dtype: int64\n",
            "2.86    16\n",
            "2.85    14\n",
            "3.00    12\n",
            "2.99    12\n",
            "2.19    11\n",
            "        ..\n",
            "3.34     1\n",
            "3.11     1\n",
            "3.19     1\n",
            "3.43     1\n",
            "3.21     1\n",
            "Name: Buffalo Average ($/gal), Length: 210, dtype: int64\n",
            "2.75    11\n",
            "2.72     8\n",
            "2.32     8\n",
            "2.76     7\n",
            "2.52     7\n",
            "        ..\n",
            "2.99     1\n",
            "2.28     1\n",
            "3.40     1\n",
            "3.50     1\n",
            "4.34     1\n",
            "Name: Dutchess Average ($/gal), Length: 113, dtype: int64\n",
            "2.69    9\n",
            "2.33    8\n",
            "2.95    6\n",
            "2.40    6\n",
            "2.74    6\n",
            "       ..\n",
            "3.08    1\n",
            "3.17    1\n",
            "3.11    1\n",
            "3.13    1\n",
            "2.34    1\n",
            "Name: Elmira Average ($/gal), Length: 123, dtype: int64\n",
            "2.34    11\n",
            "2.35    11\n",
            "2.64     9\n",
            "2.69     8\n",
            "2.32     6\n",
            "        ..\n",
            "3.12     1\n",
            "3.13     1\n",
            "3.14     1\n",
            "3.16     1\n",
            "2.27     1\n",
            "Name: Glens Falls Average ($/gal), Length: 117, dtype: int64\n",
            "2.66    10\n",
            "2.18    10\n",
            "2.42     9\n",
            "2.67     8\n",
            "2.89     7\n",
            "        ..\n",
            "2.97     1\n",
            "3.00     1\n",
            "3.02     1\n",
            "3.04     1\n",
            "2.34     1\n",
            "Name: Ithaca Average ($/gal), Length: 113, dtype: int64\n",
            "2.89    9\n",
            "2.60    8\n",
            "2.41    8\n",
            "2.90    8\n",
            "2.33    7\n",
            "       ..\n",
            "3.20    1\n",
            "3.24    1\n",
            "3.21    1\n",
            "3.19    1\n",
            "2.30    1\n",
            "Name: Kingston Average ($/gal), Length: 119, dtype: int64\n",
            "2.88    17\n",
            "2.19     9\n",
            "2.87     9\n",
            "2.47     8\n",
            "2.99     8\n",
            "        ..\n",
            "3.59     1\n",
            "4.05     1\n",
            "4.21     1\n",
            "4.20     1\n",
            "3.26     1\n",
            "Name: Nassau Average ($/gal), Length: 224, dtype: int64\n",
            "2.88    12\n",
            "3.10    11\n",
            "2.97    11\n",
            "2.98    10\n",
            "2.46     9\n",
            "        ..\n",
            "3.66     1\n",
            "4.25     1\n",
            "3.12     1\n",
            "3.47     1\n",
            "3.27     1\n",
            "Name: New York City Average ($/gal), Length: 220, dtype: int64\n",
            "2.35    11\n",
            "3.70    10\n",
            "3.81    10\n",
            "2.87    10\n",
            "3.28    10\n",
            "        ..\n",
            "4.05     1\n",
            "3.16     1\n",
            "3.48     1\n",
            "3.24     1\n",
            "3.30     1\n",
            "Name: Rochester Average ($/gal), Length: 209, dtype: int64\n",
            "3.62    11\n",
            "2.71    10\n",
            "2.60    10\n",
            "2.80    10\n",
            "2.76     9\n",
            "        ..\n",
            "3.55     1\n",
            "3.11     1\n",
            "2.05     1\n",
            "2.01     1\n",
            "3.22     1\n",
            "Name: Syracuse Average ($/gal), Length: 225, dtype: int64\n",
            "2.84    14\n",
            "2.62    12\n",
            "3.70    12\n",
            "2.30    11\n",
            "2.78    11\n",
            "        ..\n",
            "4.01     1\n",
            "4.05     1\n",
            "4.02     1\n",
            "3.97     1\n",
            "3.08     1\n",
            "Name: Utica Average ($/gal), Length: 213, dtype: int64\n",
            "2.28    11\n",
            "2.67    10\n",
            "2.95     8\n",
            "2.71     7\n",
            "2.66     7\n",
            "        ..\n",
            "2.83     1\n",
            "3.10     1\n",
            "3.13     1\n",
            "3.14     1\n",
            "2.22     1\n",
            "Name: Watertown Average ($/gal), Length: 120, dtype: int64\n",
            "2.83    16\n",
            "3.14     8\n",
            "3.00     7\n",
            "2.82     7\n",
            "2.59     6\n",
            "        ..\n",
            "2.72     1\n",
            "2.76     1\n",
            "2.78     1\n",
            "2.91     1\n",
            "2.48     1\n",
            "Name: White Plains Average ($/gal), Length: 106, dtype: int64\n",
            "Index(['Date', 'New York State Average ($/gal)', 'Albany Average ($/gal)',\n",
            "       'Batavia Average ($/gal)', 'Binghamton Average ($/gal)',\n",
            "       'Buffalo Average ($/gal)', 'Dutchess Average ($/gal)',\n",
            "       'Elmira Average ($/gal)', 'Glens Falls Average ($/gal)',\n",
            "       'Ithaca Average ($/gal)', 'Kingston Average ($/gal)',\n",
            "       'Nassau Average ($/gal)', 'New York City Average ($/gal)',\n",
            "       'Rochester Average ($/gal)', 'Syracuse Average ($/gal)',\n",
            "       'Utica Average ($/gal)', 'Watertown Average ($/gal)',\n",
            "       'White Plains Average ($/gal)'],\n",
            "      dtype='object')\n",
            "<class 'pandas.core.frame.DataFrame'>\n",
            "RangeIndex: 757 entries, 0 to 756\n",
            "Data columns (total 18 columns):\n",
            " #   Column                          Non-Null Count  Dtype  \n",
            "---  ------                          --------------  -----  \n",
            " 0   Date                            757 non-null    object \n",
            " 1   New York State Average ($/gal)  757 non-null    float64\n",
            " 2   Albany Average ($/gal)          757 non-null    float64\n",
            " 3   Batavia Average ($/gal)         276 non-null    float64\n",
            " 4   Binghamton Average ($/gal)      757 non-null    float64\n",
            " 5   Buffalo Average ($/gal)         757 non-null    float64\n",
            " 6   Dutchess Average ($/gal)        284 non-null    float64\n",
            " 7   Elmira Average ($/gal)          284 non-null    float64\n",
            " 8   Glens Falls Average ($/gal)     284 non-null    float64\n",
            " 9   Ithaca Average ($/gal)          284 non-null    float64\n",
            " 10  Kingston Average ($/gal)        284 non-null    float64\n",
            " 11  Nassau Average ($/gal)          757 non-null    float64\n",
            " 12  New York City Average ($/gal)   757 non-null    float64\n",
            " 13  Rochester Average ($/gal)       757 non-null    float64\n",
            " 14  Syracuse Average ($/gal)        757 non-null    float64\n",
            " 15  Utica Average ($/gal)           757 non-null    float64\n",
            " 16  Watertown Average ($/gal)       284 non-null    float64\n",
            " 17  White Plains Average ($/gal)    284 non-null    float64\n",
            "dtypes: float64(17), object(1)\n",
            "memory usage: 106.6+ KB\n",
            "None\n"
          ]
        }
      ],
      "source": [
        "import pandas as pd\n",
        "\n",
        "df = pd.read_csv('https://raw.githubusercontent.com/emcancode/FinalProjectPDA_Noeth/main/gasprices.csv')\n",
        "\n",
        "for x in df:\n",
        "  val = df[x].value_counts()\n",
        "  print(val)\n",
        "\n",
        "print(df.columns)\n",
        "print(df.info())"
      ]
    },
    {
      "cell_type": "code",
      "source": [
        "from matplotlib import pyplot as plt\n",
        "\n",
        "plt.scatter(df['Date'], df['New York State Average ($/gal)'])\n",
        "\n",
        "plt.show()"
      ],
      "metadata": {
        "colab": {
          "base_uri": "https://localhost:8080/",
          "height": 265
        },
        "id": "b4rMoKwEGK0w",
        "outputId": "110fbbd2-e2e1-44af-f1bf-08488a0cfadd"
      },
      "execution_count": 9,
      "outputs": [
        {
          "output_type": "display_data",
          "data": {
            "text/plain": [
              "<Figure size 432x288 with 1 Axes>"
            ],
            "image/png": "[encoded data removed]"
          },
          "metadata": {
            "needs_background": "light"
          }
        }
      ]
    },
    {
      "cell_type": "code",
      "source": [
        "from matplotlib import pyplot as plt\n",
        "\n",
        "plt.scatter(df['Date'], df['Albany Average ($/gal)'])\n",
        "\n",
        "plt.show()"
      ],
      "metadata": {
        "colab": {
          "base_uri": "https://localhost:8080/",
          "height": 265
        },
        "id": "9OKJY-4Kb5OB",
        "outputId": "fb921e2f-8381-4fa9-b96d-187c4c18cbff"
      },
      "execution_count": 7,
      "outputs": [
        {
          "output_type": "display_data",
          "data": {
            "text/plain": [
              "<Figure size 432x288 with 1 Axes>"
            ],
            "image/png": "[encoded data removed]"
          },
          "metadata": {
            "needs_background": "light"
          }
        }
      ]
    },
    {
      "cell_type": "code",
      "source": [
        "from matplotlib import pyplot as plt\n",
        "\n",
        "plt.scatter(df['Date'], df['Batavia Average ($/gal)'])\n",
        "\n",
        "plt.show()"
      ],
      "metadata": {
        "colab": {
          "base_uri": "https://localhost:8080/",
          "height": 265
        },
        "id": "SWdEHi06Epzq",
        "outputId": "815013fb-7d79-4c0b-dd07-f64cca7fc206"
      },
      "execution_count": 6,
      "outputs": [
        {
          "output_type": "display_data",
          "data": {
            "text/plain": [
              "<Figure size 432x288 with 1 Axes>"
            ],
            "image/png": "[encoded data removed]"
          },
          "metadata": {
            "needs_background": "light"
          }
        }
      ]
    },
    {
      "cell_type": "markdown",
      "source": [
        ""
      ],
      "metadata": {
        "id": "712K7jK4FP14"
      }
    },
    {
      "cell_type": "code",
      "source": [
        "from matplotlib import pyplot as plt\n",
        "\n",
        "plt.scatter(df['Date'], df['Elmira Average ($/gal)'])\n",
        "\n",
        "plt.show()"
      ],
      "metadata": {
        "colab": {
          "base_uri": "https://localhost:8080/",
          "height": 268
        },
        "id": "l56u-P5gFPax",
        "outputId": "b51927c2-7549-4940-846b-1b264c87d979"
      },
      "execution_count": 8,
      "outputs": [
        {
          "output_type": "display_data",
          "data": {
            "text/plain": [
              "<Figure size 432x288 with 1 Axes>"
            ],
            "image/png": "[encoded data removed]"
          },
          "metadata": {
            "needs_background": "light"
          }
        }
      ]
    }
  ]
}