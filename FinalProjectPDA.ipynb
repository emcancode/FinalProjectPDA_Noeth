{
  "nbformat": 4,
  "nbformat_minor": 0,
  "metadata": {
    "colab": {
      "name": "FinalProjectPDA.ipynb",
      "provenance": [],
      "toc_visible": true,
      "authorship_tag": "ABX9TyPZm0ymXnCmj4nDCdEFY2J2",
      "include_colab_link": true
    },
    "kernelspec": {
      "name": "python3",
      "display_name": "Python 3"
    },
    "language_info": {
      "name": "python"
    }
  },
  "cells": [
    {
      "cell_type": "markdown",
      "metadata": {
        "id": "view-in-github",
        "colab_type": "text"
      },
      "source": [
        "<a href=\"https://colab.research.google.com/github/emcancode/FinalProjectPDA_Noeth/blob/main/FinalProjectPDA.ipynb\" target=\"_parent\"><img src=\"https://colab.research.google.com/assets/colab-badge.svg\" alt=\"Open In Colab\"/></a>"
      ]
    },
    {
      "cell_type": "code",
      "source": [
        "import pandas as pd\n",
        "\n",
        "df = pd.read_csv('https://raw.githubusercontent.com/emcancode/FinalProjectPDA_Noeth/main/AVGGAS.csv')\n",
        "\n",
        "print(df.columns)\n",
        "print(df.info())\n"
      ],
      "metadata": {
        "colab": {
          "base_uri": "https://localhost:8080/"
        },
        "id": "hgIXeQtKqWS_",
        "outputId": "9966618e-9178-426d-d517-489647b70da2"
      },
      "execution_count": 141,
      "outputs": [
        {
          "output_type": "stream",
          "name": "stdout",
          "text": [
            "Index(['Date', 'New York State Average ($/gal)', 'Albany Average ($/gal)',\n",
            "       'Batavia Average ($/gal)', 'Binghamton Average ($/gal)',\n",
            "       'Buffalo Average ($/gal)', 'Dutchess Average ($/gal)',\n",
            "       'Elmira Average ($/gal)', 'Glens Falls Average ($/gal)',\n",
            "       'Ithaca Average ($/gal)', 'Kingston Average ($/gal)',\n",
            "       'Nassau Average ($/gal)', 'New York City Average ($/gal)',\n",
            "       'Rochester Average ($/gal)', 'Syracuse Average ($/gal)',\n",
            "       'Utica Average ($/gal)', 'Watertown Average ($/gal)',\n",
            "       'White Plains Average ($/gal)'],\n",
            "      dtype='object')\n",
            "<class 'pandas.core.frame.DataFrame'>\n",
            "RangeIndex: 758 entries, 0 to 757\n",
            "Data columns (total 18 columns):\n",
            " #   Column                          Non-Null Count  Dtype  \n",
            "---  ------                          --------------  -----  \n",
            " 0   Date                            277 non-null    object \n",
            " 1   New York State Average ($/gal)  277 non-null    float64\n",
            " 2   Albany Average ($/gal)          277 non-null    float64\n",
            " 3   Batavia Average ($/gal)         277 non-null    float64\n",
            " 4   Binghamton Average ($/gal)      277 non-null    float64\n",
            " 5   Buffalo Average ($/gal)         277 non-null    float64\n",
            " 6   Dutchess Average ($/gal)        277 non-null    float64\n",
            " 7   Elmira Average ($/gal)          277 non-null    float64\n",
            " 8   Glens Falls Average ($/gal)     277 non-null    float64\n",
            " 9   Ithaca Average ($/gal)          277 non-null    float64\n",
            " 10  Kingston Average ($/gal)        277 non-null    float64\n",
            " 11  Nassau Average ($/gal)          277 non-null    float64\n",
            " 12  New York City Average ($/gal)   277 non-null    float64\n",
            " 13  Rochester Average ($/gal)       277 non-null    float64\n",
            " 14  Syracuse Average ($/gal)        277 non-null    float64\n",
            " 15  Utica Average ($/gal)           277 non-null    float64\n",
            " 16  Watertown Average ($/gal)       277 non-null    float64\n",
            " 17  White Plains Average ($/gal)    277 non-null    float64\n",
            "dtypes: float64(17), object(1)\n",
            "memory usage: 106.7+ KB\n",
            "None\n"
          ]
        }
      ]
    }
  ]
}