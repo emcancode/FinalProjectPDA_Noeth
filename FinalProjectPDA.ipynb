{
  "nbformat": 4,
  "nbformat_minor": 0,
  "metadata": {
    "colab": {
      "name": "FinalProjectPDA.ipynb",
      "provenance": [],
      "toc_visible": true,
      "authorship_tag": "ABX9TyNc6upvABhKZV/uEVtsjSLg",
      "include_colab_link": true
    },
    "kernelspec": {
      "name": "python3",
      "display_name": "Python 3"
    },
    "language_info": {
      "name": "python"
    }
  },
  "cells": [
    {
      "cell_type": "markdown",
      "metadata": {
        "id": "view-in-github",
        "colab_type": "text"
      },
      "source": [
        "<a href=\"https://colab.research.google.com/github/emcancode/FinalProjectPDA_Noeth/blob/main/FinalProjectPDA.ipynb\" target=\"_parent\"><img src=\"https://colab.research.google.com/assets/colab-badge.svg\" alt=\"Open In Colab\"/></a>"
      ]
    },
    {
      "cell_type": "code",
      "execution_count": 1,
      "metadata": {
        "colab": {
          "base_uri": "https://localhost:8080/"
        },
        "id": "Wou4AvsTKu7l",
        "outputId": "0c58b6b8-f882-47c3-aeef-00076e3a162e"
      },
      "outputs": [
        {
          "output_type": "stream",
          "name": "stdout",
          "text": [
            "Index(['Date', 'New York State Average ($/gal)', 'Albany Average ($/gal)',\n",
            "       'Batavia Average ($/gal)', 'Binghamton Average ($/gal)',\n",
            "       'Buffalo Average ($/gal)', 'Dutchess Average ($/gal)',\n",
            "       'Elmira Average ($/gal)', 'Glens Falls Average ($/gal)',\n",
            "       'Ithaca Average ($/gal)', 'Kingston Average ($/gal)',\n",
            "       'Nassau Average ($/gal)', 'New York City Average ($/gal)',\n",
            "       'Rochester Average ($/gal)', 'Syracuse Average ($/gal)',\n",
            "       'Utica Average ($/gal)', 'Watertown Average ($/gal)',\n",
            "       'White Plains Average ($/gal)'],\n",
            "      dtype='object')\n",
            "<class 'pandas.core.frame.DataFrame'>\n",
            "RangeIndex: 757 entries, 0 to 756\n",
            "Data columns (total 18 columns):\n",
            " #   Column                          Non-Null Count  Dtype  \n",
            "---  ------                          --------------  -----  \n",
            " 0   Date                            757 non-null    object \n",
            " 1   New York State Average ($/gal)  757 non-null    float64\n",
            " 2   Albany Average ($/gal)          757 non-null    float64\n",
            " 3   Batavia Average ($/gal)         276 non-null    float64\n",
            " 4   Binghamton Average ($/gal)      757 non-null    float64\n",
            " 5   Buffalo Average ($/gal)         757 non-null    float64\n",
            " 6   Dutchess Average ($/gal)        284 non-null    float64\n",
            " 7   Elmira Average ($/gal)          284 non-null    float64\n",
            " 8   Glens Falls Average ($/gal)     284 non-null    float64\n",
            " 9   Ithaca Average ($/gal)          284 non-null    float64\n",
            " 10  Kingston Average ($/gal)        284 non-null    float64\n",
            " 11  Nassau Average ($/gal)          757 non-null    float64\n",
            " 12  New York City Average ($/gal)   757 non-null    float64\n",
            " 13  Rochester Average ($/gal)       757 non-null    float64\n",
            " 14  Syracuse Average ($/gal)        757 non-null    float64\n",
            " 15  Utica Average ($/gal)           757 non-null    float64\n",
            " 16  Watertown Average ($/gal)       284 non-null    float64\n",
            " 17  White Plains Average ($/gal)    284 non-null    float64\n",
            "dtypes: float64(17), object(1)\n",
            "memory usage: 106.6+ KB\n",
            "None\n"
          ]
        }
      ],
      "source": [
        "import pandas as pd\n",
        "\n",
        "df = pd.read_csv('https://raw.githubusercontent.com/emcancode/FinalProjectPDA_Noeth/main/gasprices.csv')\n",
        "\n",
        "print(df.columns)\n",
        "print(df.info())"
      ]
    },
    {
      "cell_type": "code",
      "source": [
        "from matplotlib import pyplot as plt\n",
        "\n",
        "plt.scatter(df['Date'], df['Batavia Average ($/gal)'])\n",
        "\n",
        "plt.show()"
      ],
      "metadata": {
        "colab": {
          "base_uri": "https://localhost:8080/",
          "height": 265
        },
        "id": "9OKJY-4Kb5OB",
        "outputId": "a3ebda71-ae81-44ca-b47e-3b7f416a35d7"
      },
      "execution_count": 10,
      "outputs": [
        {
          "output_type": "display_data",
          "data": {
            "text/plain": [
              "<Figure size 432x288 with 1 Axes>"
            ],
            "image/png": "[encoded data removed]"
          },
          "metadata": {
            "needs_background": "light"
          }
        }
      ]
    }
  ]
}