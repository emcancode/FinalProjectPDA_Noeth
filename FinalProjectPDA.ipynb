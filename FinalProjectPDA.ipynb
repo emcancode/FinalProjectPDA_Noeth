{
  "nbformat": 4,
  "nbformat_minor": 0,
  "metadata": {
    "colab": {
      "name": "FinalProjectPDA.ipynb",
      "provenance": [],
      "authorship_tag": "ABX9TyOoP3IIalRUucJO6d8p/G1G",
      "include_colab_link": true
    },
    "kernelspec": {
      "name": "python3",
      "display_name": "Python 3"
    },
    "language_info": {
      "name": "python"
    }
  },
  "cells": [
    {
      "cell_type": "markdown",
      "metadata": {
        "id": "view-in-github",
        "colab_type": "text"
      },
      "source": [
        "<a href=\"https://colab.research.google.com/github/emcancode/FinalProjectPDA_Noeth/blob/main/FinalProjectPDA.ipynb\" target=\"_parent\"><img src=\"https://colab.research.google.com/assets/colab-badge.svg\" alt=\"Open In Colab\"/></a>"
      ]
    },
    {
      "cell_type": "code",
      "execution_count": 3,
      "metadata": {
        "colab": {
          "base_uri": "https://localhost:8080/"
        },
        "id": "Wou4AvsTKu7l",
        "outputId": "03951e6a-90e1-4955-d765-f7a12b7d4c04"
      },
      "outputs": [
        {
          "output_type": "stream",
          "name": "stdout",
          "text": [
            "Index(['name', 'type', 'breed', 'color', 'sex', 'size', 'date_of_birth',\n",
            "       'impound_number', 'kennel_number', 'id', 'intake_date', 'outcome_date',\n",
            "       'days_in_shelter', 'intake_type', 'intake_subtype', 'outcome_type',\n",
            "       'outcome_subtype', 'intake_condition', 'outcome_condition',\n",
            "       'intake_jurisdiction', 'outcome_jurisdiction', 'zip_code', 'location',\n",
            "       'intake_total'],\n",
            "      dtype='object')\n",
            "<class 'pandas.core.frame.DataFrame'>\n",
            "RangeIndex: 1000 entries, 0 to 999\n",
            "Data columns (total 24 columns):\n",
            " #   Column                Non-Null Count  Dtype  \n",
            "---  ------                --------------  -----  \n",
            " 0   name                  684 non-null    object \n",
            " 1   type                  1000 non-null   object \n",
            " 2   breed                 1000 non-null   object \n",
            " 3   color                 1000 non-null   object \n",
            " 4   sex                   1000 non-null   object \n",
            " 5   size                  1000 non-null   object \n",
            " 6   date_of_birth         697 non-null    object \n",
            " 7   impound_number        1000 non-null   object \n",
            " 8   kennel_number         994 non-null    object \n",
            " 9   id                    1000 non-null   object \n",
            " 10  intake_date           1000 non-null   object \n",
            " 11  outcome_date          899 non-null    object \n",
            " 12  days_in_shelter       1000 non-null   int64  \n",
            " 13  intake_type           1000 non-null   object \n",
            " 14  intake_subtype        1000 non-null   object \n",
            " 15  outcome_type          899 non-null    object \n",
            " 16  outcome_subtype       887 non-null    object \n",
            " 17  intake_condition      1000 non-null   object \n",
            " 18  outcome_condition     886 non-null    object \n",
            " 19  intake_jurisdiction   1000 non-null   object \n",
            " 20  outcome_jurisdiction  743 non-null    object \n",
            " 21  zip_code              739 non-null    float64\n",
            " 22  location              739 non-null    object \n",
            " 23  intake_total          1000 non-null   int64  \n",
            "dtypes: float64(1), int64(2), object(21)\n",
            "memory usage: 187.6+ KB\n",
            "None\n"
          ]
        }
      ],
      "source": [
        "import pandas as pd\n",
        "\n",
        "df = pd.read_csv('https://raw.githubusercontent.com/emcancode/FinalProjectPDA_Noeth/main/924a-vesw.csv')\n",
        "\n",
        "print(df.columns)\n",
        "print(df.info())"
      ]
    }
  ]
}